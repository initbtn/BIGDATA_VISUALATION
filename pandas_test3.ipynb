{
 "cells": [
  {
   "cell_type": "code",
   "execution_count": 6,
   "metadata": {},
   "outputs": [],
   "source": [
    "import pandas as pd"
   ]
  },
  {
   "cell_type": "code",
   "execution_count": 46,
   "metadata": {},
   "outputs": [
    {
     "data": {
      "text/html": [
       "<div>\n",
       "<style scoped>\n",
       "    .dataframe tbody tr th:only-of-type {\n",
       "        vertical-align: middle;\n",
       "    }\n",
       "\n",
       "    .dataframe tbody tr th {\n",
       "        vertical-align: top;\n",
       "    }\n",
       "\n",
       "    .dataframe thead th {\n",
       "        text-align: right;\n",
       "    }\n",
       "</style>\n",
       "<table border=\"1\" class=\"dataframe\">\n",
       "  <thead>\n",
       "    <tr style=\"text-align: right;\">\n",
       "      <th></th>\n",
       "      <th>name</th>\n",
       "      <th>kor</th>\n",
       "      <th>eng</th>\n",
       "      <th>math</th>\n",
       "    </tr>\n",
       "  </thead>\n",
       "  <tbody>\n",
       "    <tr>\n",
       "      <th>a</th>\n",
       "      <td>kim</td>\n",
       "      <td>80</td>\n",
       "      <td>85</td>\n",
       "      <td>80</td>\n",
       "    </tr>\n",
       "    <tr>\n",
       "      <th>b</th>\n",
       "      <td>lee</td>\n",
       "      <td>75</td>\n",
       "      <td>70</td>\n",
       "      <td>75</td>\n",
       "    </tr>\n",
       "    <tr>\n",
       "      <th>c</th>\n",
       "      <td>choi</td>\n",
       "      <td>60</td>\n",
       "      <td>65</td>\n",
       "      <td>70</td>\n",
       "    </tr>\n",
       "    <tr>\n",
       "      <th>d</th>\n",
       "      <td>park</td>\n",
       "      <td>70</td>\n",
       "      <td>75</td>\n",
       "      <td>65</td>\n",
       "    </tr>\n",
       "    <tr>\n",
       "      <th>e</th>\n",
       "      <td>jung</td>\n",
       "      <td>95</td>\n",
       "      <td>90</td>\n",
       "      <td>85</td>\n",
       "    </tr>\n",
       "  </tbody>\n",
       "</table>\n",
       "</div>"
      ],
      "text/plain": [
       "   name  kor  eng  math\n",
       "a   kim   80   85    80\n",
       "b   lee   75   70    75\n",
       "c  choi   60   65    70\n",
       "d  park   70   75    65\n",
       "e  jung   95   90    85"
      ]
     },
     "execution_count": 46,
     "metadata": {},
     "output_type": "execute_result"
    }
   ],
   "source": [
    "names=['kim','lee','choi','park','jung']\n",
    "kors=[80,75,60,70,95]\n",
    "engs=[85,70,65,75,90]\n",
    "maths=[80,75,70,65,85]\n",
    "data={'name':names, 'kor':kors, 'eng':engs, 'math':maths}\n",
    "df1=pd.DataFrame(data, index=['a','b','c','d','e'])\n",
    "df1"
   ]
  },
  {
   "cell_type": "code",
   "execution_count": 47,
   "metadata": {},
   "outputs": [
    {
     "data": {
      "text/plain": [
       "name    kimleechoiparkjung\n",
       "kor                    380\n",
       "eng                    385\n",
       "math                   375\n",
       "dtype: object"
      ]
     },
     "execution_count": 47,
     "metadata": {},
     "output_type": "execute_result"
    }
   ],
   "source": [
    "df1.sum(axis=0)"
   ]
  },
  {
   "cell_type": "code",
   "execution_count": 48,
   "metadata": {},
   "outputs": [
    {
     "data": {
      "text/plain": [
       "name    park\n",
       "kor       95\n",
       "eng       90\n",
       "math      85\n",
       "dtype: object"
      ]
     },
     "execution_count": 48,
     "metadata": {},
     "output_type": "execute_result"
    }
   ],
   "source": [
    "df1.max(axis=0)"
   ]
  },
  {
   "cell_type": "code",
   "execution_count": 49,
   "metadata": {},
   "outputs": [
    {
     "data": {
      "text/html": [
       "<div>\n",
       "<style scoped>\n",
       "    .dataframe tbody tr th:only-of-type {\n",
       "        vertical-align: middle;\n",
       "    }\n",
       "\n",
       "    .dataframe tbody tr th {\n",
       "        vertical-align: top;\n",
       "    }\n",
       "\n",
       "    .dataframe thead th {\n",
       "        text-align: right;\n",
       "    }\n",
       "</style>\n",
       "<table border=\"1\" class=\"dataframe\">\n",
       "  <thead>\n",
       "    <tr style=\"text-align: right;\">\n",
       "      <th></th>\n",
       "      <th>name</th>\n",
       "      <th>kor</th>\n",
       "      <th>eng</th>\n",
       "      <th>math</th>\n",
       "      <th>class</th>\n",
       "      <th>total</th>\n",
       "    </tr>\n",
       "  </thead>\n",
       "  <tbody>\n",
       "    <tr>\n",
       "      <th>a</th>\n",
       "      <td>kim</td>\n",
       "      <td>80</td>\n",
       "      <td>85</td>\n",
       "      <td>80</td>\n",
       "      <td>A</td>\n",
       "      <td>245</td>\n",
       "    </tr>\n",
       "    <tr>\n",
       "      <th>b</th>\n",
       "      <td>lee</td>\n",
       "      <td>75</td>\n",
       "      <td>70</td>\n",
       "      <td>75</td>\n",
       "      <td>B</td>\n",
       "      <td>220</td>\n",
       "    </tr>\n",
       "    <tr>\n",
       "      <th>c</th>\n",
       "      <td>choi</td>\n",
       "      <td>60</td>\n",
       "      <td>65</td>\n",
       "      <td>70</td>\n",
       "      <td>B</td>\n",
       "      <td>195</td>\n",
       "    </tr>\n",
       "    <tr>\n",
       "      <th>d</th>\n",
       "      <td>park</td>\n",
       "      <td>70</td>\n",
       "      <td>75</td>\n",
       "      <td>65</td>\n",
       "      <td>A</td>\n",
       "      <td>210</td>\n",
       "    </tr>\n",
       "    <tr>\n",
       "      <th>e</th>\n",
       "      <td>jung</td>\n",
       "      <td>95</td>\n",
       "      <td>90</td>\n",
       "      <td>85</td>\n",
       "      <td>A</td>\n",
       "      <td>270</td>\n",
       "    </tr>\n",
       "  </tbody>\n",
       "</table>\n",
       "</div>"
      ],
      "text/plain": [
       "   name  kor  eng  math class  total\n",
       "a   kim   80   85    80     A    245\n",
       "b   lee   75   70    75     B    220\n",
       "c  choi   60   65    70     B    195\n",
       "d  park   70   75    65     A    210\n",
       "e  jung   95   90    85     A    270"
      ]
     },
     "execution_count": 49,
     "metadata": {},
     "output_type": "execute_result"
    }
   ],
   "source": [
    "df1['class']=['A','B','B','A','A']\n",
    "df1['total']=df1.kor + df1.eng + df1.math\n",
    "df1"
   ]
  },
  {
   "cell_type": "code",
   "execution_count": 51,
   "metadata": {},
   "outputs": [
    {
     "name": "stdout",
     "output_type": "stream",
     "text": [
      "             kor        eng       math       total\n",
      "class                                             \n",
      "A      81.666667  83.333333  76.666667  241.666667\n",
      "B      67.500000  67.500000  72.500000  207.500000\n",
      "class\n",
      "A    241.666667\n",
      "B    207.500000\n",
      "Name: total, dtype: float64\n"
     ]
    },
    {
     "name": "stderr",
     "output_type": "stream",
     "text": [
      "C:\\Users\\admin\\AppData\\Local\\Temp\\ipykernel_17720\\3100589687.py:1: FutureWarning: The default value of numeric_only in DataFrameGroupBy.mean is deprecated. In a future version, numeric_only will default to False. Either specify numeric_only or select only columns which should be valid for the function.\n",
      "  print(df1.groupby('class').mean())\n",
      "C:\\Users\\admin\\AppData\\Local\\Temp\\ipykernel_17720\\3100589687.py:7: FutureWarning: The default value of numeric_only in DataFrame.corr is deprecated. In a future version, it will default to False. Select only valid columns or specify the value of numeric_only to silence this warning.\n",
      "  df1.corr()\n"
     ]
    },
    {
     "data": {
      "text/html": [
       "<div>\n",
       "<style scoped>\n",
       "    .dataframe tbody tr th:only-of-type {\n",
       "        vertical-align: middle;\n",
       "    }\n",
       "\n",
       "    .dataframe tbody tr th {\n",
       "        vertical-align: top;\n",
       "    }\n",
       "\n",
       "    .dataframe thead th {\n",
       "        text-align: right;\n",
       "    }\n",
       "</style>\n",
       "<table border=\"1\" class=\"dataframe\">\n",
       "  <thead>\n",
       "    <tr style=\"text-align: right;\">\n",
       "      <th></th>\n",
       "      <th>kor</th>\n",
       "      <th>eng</th>\n",
       "      <th>math</th>\n",
       "      <th>total</th>\n",
       "    </tr>\n",
       "  </thead>\n",
       "  <tbody>\n",
       "    <tr>\n",
       "      <th>kor</th>\n",
       "      <td>1.000000</td>\n",
       "      <td>0.912903</td>\n",
       "      <td>0.855186</td>\n",
       "      <td>0.981866</td>\n",
       "    </tr>\n",
       "    <tr>\n",
       "      <th>eng</th>\n",
       "      <td>0.912903</td>\n",
       "      <td>1.000000</td>\n",
       "      <td>0.762493</td>\n",
       "      <td>0.949652</td>\n",
       "    </tr>\n",
       "    <tr>\n",
       "      <th>math</th>\n",
       "      <td>0.855186</td>\n",
       "      <td>0.762493</td>\n",
       "      <td>1.000000</td>\n",
       "      <td>0.904819</td>\n",
       "    </tr>\n",
       "    <tr>\n",
       "      <th>total</th>\n",
       "      <td>0.981866</td>\n",
       "      <td>0.949652</td>\n",
       "      <td>0.904819</td>\n",
       "      <td>1.000000</td>\n",
       "    </tr>\n",
       "  </tbody>\n",
       "</table>\n",
       "</div>"
      ],
      "text/plain": [
       "            kor       eng      math     total\n",
       "kor    1.000000  0.912903  0.855186  0.981866\n",
       "eng    0.912903  1.000000  0.762493  0.949652\n",
       "math   0.855186  0.762493  1.000000  0.904819\n",
       "total  0.981866  0.949652  0.904819  1.000000"
      ]
     },
     "execution_count": 51,
     "metadata": {},
     "output_type": "execute_result"
    }
   ],
   "source": [
    "print(df1.groupby('class').mean())\n",
    "print(df1.groupby('class')['total'].mean())\n",
    "\n"
   ]
  },
  {
   "cell_type": "code",
   "execution_count": 24,
   "metadata": {},
   "outputs": [],
   "source": [
    "input_file='data/input.csv'\n",
    "output_file='data/output1.csv'"
   ]
  },
  {
   "cell_type": "code",
   "execution_count": 26,
   "metadata": {},
   "outputs": [
    {
     "data": {
      "text/html": [
       "<div>\n",
       "<style scoped>\n",
       "    .dataframe tbody tr th:only-of-type {\n",
       "        vertical-align: middle;\n",
       "    }\n",
       "\n",
       "    .dataframe tbody tr th {\n",
       "        vertical-align: top;\n",
       "    }\n",
       "\n",
       "    .dataframe thead th {\n",
       "        text-align: right;\n",
       "    }\n",
       "</style>\n",
       "<table border=\"1\" class=\"dataframe\">\n",
       "  <thead>\n",
       "    <tr style=\"text-align: right;\">\n",
       "      <th></th>\n",
       "      <th>Supplier Name</th>\n",
       "      <th>Invoice Number</th>\n",
       "      <th>Part Number</th>\n",
       "      <th>Cost</th>\n",
       "      <th>Purchase Date</th>\n",
       "    </tr>\n",
       "  </thead>\n",
       "  <tbody>\n",
       "    <tr>\n",
       "      <th>0</th>\n",
       "      <td>A</td>\n",
       "      <td>001-1001</td>\n",
       "      <td>2341</td>\n",
       "      <td>$500,000</td>\n",
       "      <td>2014-01-20</td>\n",
       "    </tr>\n",
       "    <tr>\n",
       "      <th>1</th>\n",
       "      <td>A</td>\n",
       "      <td>001-1001</td>\n",
       "      <td>5467</td>\n",
       "      <td>500000</td>\n",
       "      <td>2014-01-20</td>\n",
       "    </tr>\n",
       "    <tr>\n",
       "      <th>2</th>\n",
       "      <td>A</td>\n",
       "      <td>001-1001</td>\n",
       "      <td>5407</td>\n",
       "      <td>750000</td>\n",
       "      <td>2014-01-20</td>\n",
       "    </tr>\n",
       "    <tr>\n",
       "      <th>3</th>\n",
       "      <td>A</td>\n",
       "      <td>001-1001</td>\n",
       "      <td>2341</td>\n",
       "      <td>750000</td>\n",
       "      <td>2014-01-20</td>\n",
       "    </tr>\n",
       "    <tr>\n",
       "      <th>4</th>\n",
       "      <td>B</td>\n",
       "      <td>50-9501</td>\n",
       "      <td>7009</td>\n",
       "      <td>250000</td>\n",
       "      <td>2018-01-30</td>\n",
       "    </tr>\n",
       "    <tr>\n",
       "      <th>5</th>\n",
       "      <td>B</td>\n",
       "      <td>50-9501</td>\n",
       "      <td>7009</td>\n",
       "      <td>250000</td>\n",
       "      <td>2018-01-30</td>\n",
       "    </tr>\n",
       "    <tr>\n",
       "      <th>6</th>\n",
       "      <td>B</td>\n",
       "      <td>50-9505</td>\n",
       "      <td>6650</td>\n",
       "      <td>125000</td>\n",
       "      <td>2017-02-03</td>\n",
       "    </tr>\n",
       "    <tr>\n",
       "      <th>7</th>\n",
       "      <td>B</td>\n",
       "      <td>50-9505</td>\n",
       "      <td>6650</td>\n",
       "      <td>125000</td>\n",
       "      <td>2017-02-03</td>\n",
       "    </tr>\n",
       "    <tr>\n",
       "      <th>8</th>\n",
       "      <td>C</td>\n",
       "      <td>920-4803</td>\n",
       "      <td>3321</td>\n",
       "      <td>615000</td>\n",
       "      <td>2017-02-03</td>\n",
       "    </tr>\n",
       "    <tr>\n",
       "      <th>9</th>\n",
       "      <td>C</td>\n",
       "      <td>920-4804</td>\n",
       "      <td>3321</td>\n",
       "      <td>615000</td>\n",
       "      <td>2017-02-10</td>\n",
       "    </tr>\n",
       "    <tr>\n",
       "      <th>10</th>\n",
       "      <td>C</td>\n",
       "      <td>920-4805</td>\n",
       "      <td>3321</td>\n",
       "      <td>615000</td>\n",
       "      <td>2017-02-17</td>\n",
       "    </tr>\n",
       "    <tr>\n",
       "      <th>11</th>\n",
       "      <td>C</td>\n",
       "      <td>920-4806</td>\n",
       "      <td>3321</td>\n",
       "      <td>615000</td>\n",
       "      <td>2017-02-24</td>\n",
       "    </tr>\n",
       "  </tbody>\n",
       "</table>\n",
       "</div>"
      ],
      "text/plain": [
       "   Supplier Name Invoice Number  Part Number      Cost Purchase Date\n",
       "0              A       001-1001         2341  $500,000    2014-01-20\n",
       "1              A       001-1001         5467    500000    2014-01-20\n",
       "2              A       001-1001         5407    750000    2014-01-20\n",
       "3              A       001-1001         2341    750000    2014-01-20\n",
       "4              B        50-9501         7009    250000    2018-01-30\n",
       "5              B        50-9501         7009    250000    2018-01-30\n",
       "6              B        50-9505         6650    125000    2017-02-03\n",
       "7              B        50-9505         6650    125000    2017-02-03\n",
       "8              C       920-4803         3321    615000    2017-02-03\n",
       "9              C       920-4804         3321    615000    2017-02-10\n",
       "10             C       920-4805         3321    615000    2017-02-17\n",
       "11             C       920-4806         3321    615000    2017-02-24"
      ]
     },
     "execution_count": 26,
     "metadata": {},
     "output_type": "execute_result"
    }
   ],
   "source": [
    "df=pd.read_csv(input_file)\n",
    "df"
   ]
  },
  {
   "cell_type": "code",
   "execution_count": 28,
   "metadata": {},
   "outputs": [
    {
     "name": "stdout",
     "output_type": "stream",
     "text": [
      "<class 'pandas.core.frame.DataFrame'>\n",
      "RangeIndex: 12 entries, 0 to 11\n",
      "Data columns (total 5 columns):\n",
      " #   Column          Non-Null Count  Dtype \n",
      "---  ------          --------------  ----- \n",
      " 0   Supplier Name   12 non-null     object\n",
      " 1   Invoice Number  12 non-null     object\n",
      " 2   Part Number     12 non-null     int64 \n",
      " 3   Cost            12 non-null     object\n",
      " 4   Purchase Date   12 non-null     object\n",
      "dtypes: int64(1), object(4)\n",
      "memory usage: 608.0+ bytes\n"
     ]
    }
   ],
   "source": [
    "df.info()"
   ]
  },
  {
   "cell_type": "code",
   "execution_count": 31,
   "metadata": {},
   "outputs": [
    {
     "data": {
      "text/html": [
       "<div>\n",
       "<style scoped>\n",
       "    .dataframe tbody tr th:only-of-type {\n",
       "        vertical-align: middle;\n",
       "    }\n",
       "\n",
       "    .dataframe tbody tr th {\n",
       "        vertical-align: top;\n",
       "    }\n",
       "\n",
       "    .dataframe thead th {\n",
       "        text-align: right;\n",
       "    }\n",
       "</style>\n",
       "<table border=\"1\" class=\"dataframe\">\n",
       "  <thead>\n",
       "    <tr style=\"text-align: right;\">\n",
       "      <th></th>\n",
       "      <th>Supplier Name</th>\n",
       "      <th>Invoice Number</th>\n",
       "      <th>Part Number</th>\n",
       "      <th>Cost</th>\n",
       "      <th>Purchase Date</th>\n",
       "    </tr>\n",
       "  </thead>\n",
       "  <tbody>\n",
       "    <tr>\n",
       "      <th>0</th>\n",
       "      <td>A</td>\n",
       "      <td>001-1001</td>\n",
       "      <td>2341</td>\n",
       "      <td>500000.0</td>\n",
       "      <td>2014-01-20</td>\n",
       "    </tr>\n",
       "    <tr>\n",
       "      <th>1</th>\n",
       "      <td>A</td>\n",
       "      <td>001-1001</td>\n",
       "      <td>5467</td>\n",
       "      <td>500000.0</td>\n",
       "      <td>2014-01-20</td>\n",
       "    </tr>\n",
       "    <tr>\n",
       "      <th>2</th>\n",
       "      <td>A</td>\n",
       "      <td>001-1001</td>\n",
       "      <td>5407</td>\n",
       "      <td>750000.0</td>\n",
       "      <td>2014-01-20</td>\n",
       "    </tr>\n",
       "    <tr>\n",
       "      <th>3</th>\n",
       "      <td>A</td>\n",
       "      <td>001-1001</td>\n",
       "      <td>2341</td>\n",
       "      <td>750000.0</td>\n",
       "      <td>2014-01-20</td>\n",
       "    </tr>\n",
       "    <tr>\n",
       "      <th>4</th>\n",
       "      <td>B</td>\n",
       "      <td>50-9501</td>\n",
       "      <td>7009</td>\n",
       "      <td>250000.0</td>\n",
       "      <td>2018-01-30</td>\n",
       "    </tr>\n",
       "    <tr>\n",
       "      <th>5</th>\n",
       "      <td>B</td>\n",
       "      <td>50-9501</td>\n",
       "      <td>7009</td>\n",
       "      <td>250000.0</td>\n",
       "      <td>2018-01-30</td>\n",
       "    </tr>\n",
       "    <tr>\n",
       "      <th>6</th>\n",
       "      <td>B</td>\n",
       "      <td>50-9505</td>\n",
       "      <td>6650</td>\n",
       "      <td>125000.0</td>\n",
       "      <td>2017-02-03</td>\n",
       "    </tr>\n",
       "    <tr>\n",
       "      <th>7</th>\n",
       "      <td>B</td>\n",
       "      <td>50-9505</td>\n",
       "      <td>6650</td>\n",
       "      <td>125000.0</td>\n",
       "      <td>2017-02-03</td>\n",
       "    </tr>\n",
       "    <tr>\n",
       "      <th>8</th>\n",
       "      <td>C</td>\n",
       "      <td>920-4803</td>\n",
       "      <td>3321</td>\n",
       "      <td>615000.0</td>\n",
       "      <td>2017-02-03</td>\n",
       "    </tr>\n",
       "    <tr>\n",
       "      <th>9</th>\n",
       "      <td>C</td>\n",
       "      <td>920-4804</td>\n",
       "      <td>3321</td>\n",
       "      <td>615000.0</td>\n",
       "      <td>2017-02-10</td>\n",
       "    </tr>\n",
       "    <tr>\n",
       "      <th>10</th>\n",
       "      <td>C</td>\n",
       "      <td>920-4805</td>\n",
       "      <td>3321</td>\n",
       "      <td>615000.0</td>\n",
       "      <td>2017-02-17</td>\n",
       "    </tr>\n",
       "    <tr>\n",
       "      <th>11</th>\n",
       "      <td>C</td>\n",
       "      <td>920-4806</td>\n",
       "      <td>3321</td>\n",
       "      <td>615000.0</td>\n",
       "      <td>2017-02-24</td>\n",
       "    </tr>\n",
       "  </tbody>\n",
       "</table>\n",
       "</div>"
      ],
      "text/plain": [
       "   Supplier Name Invoice Number  Part Number      Cost Purchase Date\n",
       "0              A       001-1001         2341  500000.0    2014-01-20\n",
       "1              A       001-1001         5467  500000.0    2014-01-20\n",
       "2              A       001-1001         5407  750000.0    2014-01-20\n",
       "3              A       001-1001         2341  750000.0    2014-01-20\n",
       "4              B        50-9501         7009  250000.0    2018-01-30\n",
       "5              B        50-9501         7009  250000.0    2018-01-30\n",
       "6              B        50-9505         6650  125000.0    2017-02-03\n",
       "7              B        50-9505         6650  125000.0    2017-02-03\n",
       "8              C       920-4803         3321  615000.0    2017-02-03\n",
       "9              C       920-4804         3321  615000.0    2017-02-10\n",
       "10             C       920-4805         3321  615000.0    2017-02-17\n",
       "11             C       920-4806         3321  615000.0    2017-02-24"
      ]
     },
     "execution_count": 31,
     "metadata": {},
     "output_type": "execute_result"
    }
   ],
   "source": [
    "#1. SupplierName으로 GroupBy()\n",
    "#2. Cost 평균값 구하기\n",
    "#주의1. Cost 첫번째 데이터 $, 쉼표 제거\n",
    "#주의2. Cost 데이터 타입 Object -> float형태로 변환\n",
    "\n",
    "df['Cost']=df['Cost'].str.strip('$').str.replace(',','').astype(float)\n",
    "df"
   ]
  },
  {
   "cell_type": "code",
   "execution_count": 32,
   "metadata": {},
   "outputs": [
    {
     "data": {
      "text/html": [
       "<div>\n",
       "<style scoped>\n",
       "    .dataframe tbody tr th:only-of-type {\n",
       "        vertical-align: middle;\n",
       "    }\n",
       "\n",
       "    .dataframe tbody tr th {\n",
       "        vertical-align: top;\n",
       "    }\n",
       "\n",
       "    .dataframe thead th {\n",
       "        text-align: right;\n",
       "    }\n",
       "</style>\n",
       "<table border=\"1\" class=\"dataframe\">\n",
       "  <thead>\n",
       "    <tr style=\"text-align: right;\">\n",
       "      <th></th>\n",
       "      <th>Supplier Name</th>\n",
       "      <th>Invoice Number</th>\n",
       "      <th>Part Number</th>\n",
       "      <th>Cost</th>\n",
       "      <th>Purchase Date</th>\n",
       "    </tr>\n",
       "  </thead>\n",
       "  <tbody>\n",
       "    <tr>\n",
       "      <th>2</th>\n",
       "      <td>A</td>\n",
       "      <td>001-1001</td>\n",
       "      <td>5407</td>\n",
       "      <td>750000.0</td>\n",
       "      <td>2014-01-20</td>\n",
       "    </tr>\n",
       "    <tr>\n",
       "      <th>3</th>\n",
       "      <td>A</td>\n",
       "      <td>001-1001</td>\n",
       "      <td>2341</td>\n",
       "      <td>750000.0</td>\n",
       "      <td>2014-01-20</td>\n",
       "    </tr>\n",
       "  </tbody>\n",
       "</table>\n",
       "</div>"
      ],
      "text/plain": [
       "  Supplier Name Invoice Number  Part Number      Cost Purchase Date\n",
       "2             A       001-1001         5407  750000.0    2014-01-20\n",
       "3             A       001-1001         2341  750000.0    2014-01-20"
      ]
     },
     "execution_count": 32,
     "metadata": {},
     "output_type": "execute_result"
    }
   ],
   "source": [
    "result1=df.loc[(df['Cost']>=600000) & (df['Supplier Name']=='A')]\n",
    "result1"
   ]
  },
  {
   "cell_type": "code",
   "execution_count": 34,
   "metadata": {},
   "outputs": [
    {
     "data": {
      "text/html": [
       "<div>\n",
       "<style scoped>\n",
       "    .dataframe tbody tr th:only-of-type {\n",
       "        vertical-align: middle;\n",
       "    }\n",
       "\n",
       "    .dataframe tbody tr th {\n",
       "        vertical-align: top;\n",
       "    }\n",
       "\n",
       "    .dataframe thead th {\n",
       "        text-align: right;\n",
       "    }\n",
       "</style>\n",
       "<table border=\"1\" class=\"dataframe\">\n",
       "  <thead>\n",
       "    <tr style=\"text-align: right;\">\n",
       "      <th></th>\n",
       "      <th>Supplier Name</th>\n",
       "      <th>Invoice Number</th>\n",
       "      <th>Part Number</th>\n",
       "      <th>Cost</th>\n",
       "      <th>Purchase Date</th>\n",
       "    </tr>\n",
       "  </thead>\n",
       "  <tbody>\n",
       "    <tr>\n",
       "      <th>0</th>\n",
       "      <td>A</td>\n",
       "      <td>001-1001</td>\n",
       "      <td>2341</td>\n",
       "      <td>500000.0</td>\n",
       "      <td>2014-01-20</td>\n",
       "    </tr>\n",
       "    <tr>\n",
       "      <th>1</th>\n",
       "      <td>A</td>\n",
       "      <td>001-1001</td>\n",
       "      <td>5467</td>\n",
       "      <td>500000.0</td>\n",
       "      <td>2014-01-20</td>\n",
       "    </tr>\n",
       "    <tr>\n",
       "      <th>8</th>\n",
       "      <td>C</td>\n",
       "      <td>920-4803</td>\n",
       "      <td>3321</td>\n",
       "      <td>615000.0</td>\n",
       "      <td>2017-02-03</td>\n",
       "    </tr>\n",
       "    <tr>\n",
       "      <th>9</th>\n",
       "      <td>C</td>\n",
       "      <td>920-4804</td>\n",
       "      <td>3321</td>\n",
       "      <td>615000.0</td>\n",
       "      <td>2017-02-10</td>\n",
       "    </tr>\n",
       "    <tr>\n",
       "      <th>10</th>\n",
       "      <td>C</td>\n",
       "      <td>920-4805</td>\n",
       "      <td>3321</td>\n",
       "      <td>615000.0</td>\n",
       "      <td>2017-02-17</td>\n",
       "    </tr>\n",
       "    <tr>\n",
       "      <th>11</th>\n",
       "      <td>C</td>\n",
       "      <td>920-4806</td>\n",
       "      <td>3321</td>\n",
       "      <td>615000.0</td>\n",
       "      <td>2017-02-24</td>\n",
       "    </tr>\n",
       "  </tbody>\n",
       "</table>\n",
       "</div>"
      ],
      "text/plain": [
       "   Supplier Name Invoice Number  Part Number      Cost Purchase Date\n",
       "0              A       001-1001         2341  500000.0    2014-01-20\n",
       "1              A       001-1001         5467  500000.0    2014-01-20\n",
       "8              C       920-4803         3321  615000.0    2017-02-03\n",
       "9              C       920-4804         3321  615000.0    2017-02-10\n",
       "10             C       920-4805         3321  615000.0    2017-02-17\n",
       "11             C       920-4806         3321  615000.0    2017-02-24"
      ]
     },
     "execution_count": 34,
     "metadata": {},
     "output_type": "execute_result"
    }
   ],
   "source": [
    "result2=df.loc[(df['Cost']>=500000) & (df['Cost']<=700000)]\n",
    "result2"
   ]
  },
  {
   "cell_type": "code",
   "execution_count": 36,
   "metadata": {},
   "outputs": [
    {
     "data": {
      "text/plain": [
       "Supplier Name\n",
       "A    625000.0\n",
       "B    187500.0\n",
       "C    615000.0\n",
       "Name: Cost, dtype: float64"
      ]
     },
     "execution_count": 36,
     "metadata": {},
     "output_type": "execute_result"
    }
   ],
   "source": [
    "result3=df.groupby('Supplier Name')['Cost'].mean()\n",
    "result3"
   ]
  },
  {
   "cell_type": "code",
   "execution_count": 53,
   "metadata": {},
   "outputs": [],
   "source": [
    "result2.to_csv(output_file,index=False)"
   ]
  },
  {
   "cell_type": "code",
   "execution_count": 54,
   "metadata": {},
   "outputs": [
    {
     "data": {
      "text/plain": [
       "0.981865935985552"
      ]
     },
     "execution_count": 54,
     "metadata": {},
     "output_type": "execute_result"
    }
   ],
   "source": [
    "df1['total'].corr(df1['kor'])"
   ]
  },
  {
   "cell_type": "code",
   "execution_count": 56,
   "metadata": {},
   "outputs": [
    {
     "data": {
      "text/plain": [
       "0.949651549647939"
      ]
     },
     "execution_count": 56,
     "metadata": {},
     "output_type": "execute_result"
    }
   ],
   "source": [
    "df1['total'].corr(df1['eng'])"
   ]
  },
  {
   "cell_type": "code",
   "execution_count": 57,
   "metadata": {},
   "outputs": [
    {
     "data": {
      "text/plain": [
       "0.9048187022009941"
      ]
     },
     "execution_count": 57,
     "metadata": {},
     "output_type": "execute_result"
    }
   ],
   "source": [
    "df1['total'].corr(df1['math'])"
   ]
  },
  {
   "cell_type": "code",
   "execution_count": 58,
   "metadata": {},
   "outputs": [
    {
     "name": "stderr",
     "output_type": "stream",
     "text": [
      "C:\\Users\\admin\\AppData\\Local\\Temp\\ipykernel_17720\\473017434.py:1: FutureWarning: The default value of numeric_only in DataFrame.corr is deprecated. In a future version, it will default to False. Select only valid columns or specify the value of numeric_only to silence this warning.\n",
      "  df1.corr()\n"
     ]
    },
    {
     "data": {
      "text/html": [
       "<div>\n",
       "<style scoped>\n",
       "    .dataframe tbody tr th:only-of-type {\n",
       "        vertical-align: middle;\n",
       "    }\n",
       "\n",
       "    .dataframe tbody tr th {\n",
       "        vertical-align: top;\n",
       "    }\n",
       "\n",
       "    .dataframe thead th {\n",
       "        text-align: right;\n",
       "    }\n",
       "</style>\n",
       "<table border=\"1\" class=\"dataframe\">\n",
       "  <thead>\n",
       "    <tr style=\"text-align: right;\">\n",
       "      <th></th>\n",
       "      <th>kor</th>\n",
       "      <th>eng</th>\n",
       "      <th>math</th>\n",
       "      <th>total</th>\n",
       "    </tr>\n",
       "  </thead>\n",
       "  <tbody>\n",
       "    <tr>\n",
       "      <th>kor</th>\n",
       "      <td>1.000000</td>\n",
       "      <td>0.912903</td>\n",
       "      <td>0.855186</td>\n",
       "      <td>0.981866</td>\n",
       "    </tr>\n",
       "    <tr>\n",
       "      <th>eng</th>\n",
       "      <td>0.912903</td>\n",
       "      <td>1.000000</td>\n",
       "      <td>0.762493</td>\n",
       "      <td>0.949652</td>\n",
       "    </tr>\n",
       "    <tr>\n",
       "      <th>math</th>\n",
       "      <td>0.855186</td>\n",
       "      <td>0.762493</td>\n",
       "      <td>1.000000</td>\n",
       "      <td>0.904819</td>\n",
       "    </tr>\n",
       "    <tr>\n",
       "      <th>total</th>\n",
       "      <td>0.981866</td>\n",
       "      <td>0.949652</td>\n",
       "      <td>0.904819</td>\n",
       "      <td>1.000000</td>\n",
       "    </tr>\n",
       "  </tbody>\n",
       "</table>\n",
       "</div>"
      ],
      "text/plain": [
       "            kor       eng      math     total\n",
       "kor    1.000000  0.912903  0.855186  0.981866\n",
       "eng    0.912903  1.000000  0.762493  0.949652\n",
       "math   0.855186  0.762493  1.000000  0.904819\n",
       "total  0.981866  0.949652  0.904819  1.000000"
      ]
     },
     "execution_count": 58,
     "metadata": {},
     "output_type": "execute_result"
    }
   ],
   "source": [
    "df1.corr()"
   ]
  }
 ],
 "metadata": {
  "kernelspec": {
   "display_name": "base",
   "language": "python",
   "name": "python3"
  },
  "language_info": {
   "codemirror_mode": {
    "name": "ipython",
    "version": 3
   },
   "file_extension": ".py",
   "mimetype": "text/x-python",
   "name": "python",
   "nbconvert_exporter": "python",
   "pygments_lexer": "ipython3",
   "version": "3.10.9"
  },
  "orig_nbformat": 4
 },
 "nbformat": 4,
 "nbformat_minor": 2
}

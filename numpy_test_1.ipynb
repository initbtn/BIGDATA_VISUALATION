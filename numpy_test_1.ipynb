{
 "cells": [
  {
   "cell_type": "code",
   "execution_count": 3,
   "metadata": {},
   "outputs": [],
   "source": [
    "import numpy as np"
   ]
  },
  {
   "cell_type": "code",
   "execution_count": 5,
   "metadata": {},
   "outputs": [],
   "source": [
    "a1=[[1,1,1],[2,2,2],[3,3,3]]\n",
    "a2=[1,2,3]\n",
    "b1=np.array(a1)\n",
    "b2=np.array(a2)"
   ]
  },
  {
   "cell_type": "code",
   "execution_count": 9,
   "metadata": {},
   "outputs": [
    {
     "name": "stdout",
     "output_type": "stream",
     "text": [
      "[[1 1 1]\n",
      " [2 2 2]\n",
      " [3 3 3]]\n",
      "18\n",
      "18\n",
      "[6 6 6]\n"
     ]
    }
   ],
   "source": [
    "#Numpy 모듈 제공 함수\n",
    "print(b1)\n",
    "print(b1.sum())\n",
    "print(np.sum(b1))\n",
    "print(b1.sum(axis=0))"
   ]
  },
  {
   "cell_type": "code",
   "execution_count": 15,
   "metadata": {},
   "outputs": [
    {
     "name": "stdout",
     "output_type": "stream",
     "text": [
      "2.0\n",
      "2.0\n",
      "3\n",
      "2.302585092994046\n"
     ]
    }
   ],
   "source": [
    "#mean, sqrt, max, min, log\n",
    "print(b1.mean())\n",
    "print(np.sqrt(4))\n",
    "print(np.max([1,2,3]))\n",
    "print(np.log(10))"
   ]
  },
  {
   "cell_type": "code",
   "execution_count": 17,
   "metadata": {},
   "outputs": [],
   "source": [
    "#정렬\n",
    "a=[[4,3,5],[2,5,1],[7,6,9]]\n",
    "arr1=np.array(a)"
   ]
  },
  {
   "cell_type": "code",
   "execution_count": 19,
   "metadata": {},
   "outputs": [
    {
     "name": "stdout",
     "output_type": "stream",
     "text": [
      "[[3 4 5]\n",
      " [1 2 5]\n",
      " [6 7 9]]\n",
      "[[3 4 5]\n",
      " [1 2 5]\n",
      " [6 7 9]]\n",
      "[[2 3 1]\n",
      " [4 5 5]\n",
      " [7 6 9]]\n",
      "[[7 6 9]\n",
      " [4 5 5]\n",
      " [2 3 1]]\n",
      "[[1 3 2]\n",
      " [5 5 4]\n",
      " [9 6 7]]\n"
     ]
    }
   ],
   "source": [
    "print(np.sort(arr1))                #default 행기준\n",
    "print(np.sort(arr1, axis=1))    #행기준 정렬\n",
    "print(np.sort(arr1, axis=0))    #열기준 정렬\n",
    "print(np.sort(arr1, axis=0)[::-1,::])   #열기준 역순 정렬\n",
    "print(np.sort(arr1, axis=0)[::,::-1])   #행기준 역순 정렬"
   ]
  },
  {
   "cell_type": "code",
   "execution_count": 21,
   "metadata": {},
   "outputs": [
    {
     "name": "stdout",
     "output_type": "stream",
     "text": [
      "[[4 3 5]\n",
      " [2 5 1]\n",
      " [7 6 9]]\n",
      "[[4 2 7]\n",
      " [3 5 6]\n",
      " [5 1 9]]\n"
     ]
    }
   ],
   "source": [
    "print(arr1)\n",
    "print(arr1.transpose())     #전치행렬"
   ]
  },
  {
   "cell_type": "code",
   "execution_count": 24,
   "metadata": {},
   "outputs": [
    {
     "name": "stdout",
     "output_type": "stream",
     "text": [
      "[[False False  True]\n",
      " [False  True False]\n",
      " [ True  True  True]]\n",
      "False\n",
      "True\n"
     ]
    }
   ],
   "source": [
    "print(arr1>=5)      #논리연산\n",
    "print(np.all(arr1>3))         #모든 요소가 3보다 클 경우 true\n",
    "print(np.any(arr1>3))       #하나의 요소만 3보다 클 경우 true"
   ]
  },
  {
   "cell_type": "code",
   "execution_count": 27,
   "metadata": {},
   "outputs": [
    {
     "name": "stdout",
     "output_type": "stream",
     "text": [
      "[[1, 1, 1], [2, 2, 2], [3, 3, 3]]\n",
      "[[0. 0. 0.]\n",
      " [0. 0. 0.]\n",
      " [0. 0. 0.]]\n",
      "[[1, 1, 1], [2, 2, 2], [3, 3, 3]]\n",
      "[[1. 1. 1.]\n",
      " [1. 1. 1.]\n",
      " [1. 1. 1.]]\n"
     ]
    }
   ],
   "source": [
    "#0,1으로 셋팅하여 생성\n",
    "a=np.zeros(10)\n",
    "a2=np.zeros([3,3])\n",
    "print(a1)\n",
    "print(a2)\n",
    "a=np.ones(10)\n",
    "a2=np.ones([3,3])\n",
    "print(a1)\n",
    "print(a2)"
   ]
  },
  {
   "cell_type": "code",
   "execution_count": 29,
   "metadata": {},
   "outputs": [
    {
     "name": "stdout",
     "output_type": "stream",
     "text": [
      "[[4 3 5]\n",
      " [2 5 1]\n",
      " [7 6 9]]\n",
      "[[1 1 1]\n",
      " [1 1 1]\n",
      " [1 1 1]]\n",
      "[[0 0 0]\n",
      " [0 0 0]\n",
      " [0 0 0]]\n"
     ]
    }
   ],
   "source": [
    "print(arr1)\n",
    "b1=np.ones_like(arr1)\n",
    "b2=np.zeros_like(arr1)\n",
    "print(b1)\n",
    "print(b2)"
   ]
  },
  {
   "cell_type": "code",
   "execution_count": null,
   "metadata": {},
   "outputs": [],
   "source": [
    "#https://grouplens.org/datasets/movielens/\n",
    "#old dataSets - ml-1m.zip 다운로드"
   ]
  }
 ],
 "metadata": {
  "kernelspec": {
   "display_name": "base",
   "language": "python",
   "name": "python3"
  },
  "language_info": {
   "codemirror_mode": {
    "name": "ipython",
    "version": 3
   },
   "file_extension": ".py",
   "mimetype": "text/x-python",
   "name": "python",
   "nbconvert_exporter": "python",
   "pygments_lexer": "ipython3",
   "version": "3.10.9"
  },
  "orig_nbformat": 4
 },
 "nbformat": 4,
 "nbformat_minor": 2
}
